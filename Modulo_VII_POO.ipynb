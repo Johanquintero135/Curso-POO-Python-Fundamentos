{
 "cells": [
  {
   "cell_type": "markdown",
   "metadata": {},
   "source": [
    "# ENCAPSULACION  Y CONTROL DE ACCESO"
   ]
  },
  {
   "cell_type": "markdown",
   "metadata": {},
   "source": [
    "La encapsulación es el principio de ocultar los detalles internos del funcionamiento de un objeto y exponer solo lo necesario\n",
    "\n",
    "**Ventajas**\n",
    "- Mejora la seguridad del código\n",
    "- Evita cambio accidentales o no controlados\n",
    "- Permite validar la consistencia de los datos"
   ]
  },
  {
   "cell_type": "markdown",
   "metadata": {},
   "source": []
  }
 ],
 "metadata": {
  "language_info": {
   "name": "python"
  }
 },
 "nbformat": 4,
 "nbformat_minor": 2
}
