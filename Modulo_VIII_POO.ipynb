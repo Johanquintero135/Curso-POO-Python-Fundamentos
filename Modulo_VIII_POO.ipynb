{
 "cells": [
  {
   "cell_type": "markdown",
   "metadata": {},
   "source": [
    "# ASOCIACIÓN, AGREGACIÓN Y COMPOSICIÓN\n",
    "\n",
    "## 1.  ¿Qué es una relación de clases?\n",
    "\n",
    "Cuando una clase usa o contiene otra clase, se dice que existe una relación entre ellas"
   ]
  },
  {
   "cell_type": "markdown",
   "metadata": {},
   "source": [
    "| Tipo de Relación  | Descripción Breve                                                                 |\n",
    "|-------------------|-----------------------------------------------------------------------------------|\n",
    "| ASOCIACIÓN        | Una clase usa otra clase (colaboración temporal)                                  |\n",
    "| AGREGACIÓN        | Una clase contiene otra clase, pero ambas pueden vivir por separado               |\n",
    "| COMPOSICIÓN       | Una clase contiene otra clase y controla completamente su ciclo de vida           |"
   ]
  },
  {
   "cell_type": "markdown",
   "metadata": {},
   "source": [
    "## DIFERENCIAS CLAVE"
   ]
  },
  {
   "cell_type": "markdown",
   "metadata": {},
   "source": [
    "| RELACIÓN    | CICLO DE VIDA COMPARTIDO | INDEPENDENCIA | EJEMPLO PRÁCTICO            |\n",
    "|-------------|--------------------------|---------------|-----------------------------|\n",
    "| ASOCIACIÓN  | NO                       | SI            | Un profesor enseña una materia |\n",
    "| AGREGACIÓN  | NO                       | SI            | Una universidad tiene docentes |\n",
    "| COMPOSICIÓN | SI                       | NO            | Una casa tiene habitaciones |"
   ]
  },
  {
   "cell_type": "markdown",
   "metadata": {},
   "source": [
    "##  2. ASOCIACIÓN\n"
   ]
  },
  {
   "cell_type": "markdown",
   "metadata": {},
   "source": [
    "**Ejemplo**: Un profesor usa una Materia"
   ]
  },
  {
   "cell_type": "code",
   "execution_count": 4,
   "metadata": {},
   "outputs": [
    {
     "name": "stdout",
     "output_type": "stream",
     "text": [
      "El profesor Juan está enseñando Matemáticas\n"
     ]
    }
   ],
   "source": [
    "class Materia:\n",
    "    def __init__(self, nombre):\n",
    "        self.nombre = nombre\n",
    "class Profesor:\n",
    "    def __init__(self, nombre):\n",
    "        self.nombre = nombre\n",
    "        \n",
    "    def enseñar(self, materia):\n",
    "        print(f\"El profesor {self.nombre} está enseñando {materia.nombre}\")\n",
    "\n",
    "# ASOCIACION TEMPORAL\n",
    "\n",
    "m= Materia(\"Matemáticas\")\n",
    "p = Profesor(\"Juan\")\n",
    "p.enseñar(m)\n"
   ]
  },
  {
   "cell_type": "markdown",
   "metadata": {},
   "source": [
    "## 3. AGREGACION\n",
    "\n",
    "Una clase contiene a otra, pero los objetos pueden existir por separado.\n"
   ]
  },
  {
   "cell_type": "markdown",
   "metadata": {},
   "source": [
    "**EJEMPLO:** Un curso tiene una lista de estudiantes"
   ]
  },
  {
   "cell_type": "code",
   "execution_count": 5,
   "metadata": {},
   "outputs": [
    {
     "name": "stdout",
     "output_type": "stream",
     "text": [
      "Estudiantes del curso Matematicas:\n",
      "- Juan\n",
      "- Pedro\n"
     ]
    }
   ],
   "source": [
    "class Estudiante:\n",
    "    def __init__(self, nombre):\n",
    "        self.nombre = nombre\n",
    "\n",
    "class Curso:\n",
    "    def __init__(self, nombre):\n",
    "        self.nombre = nombre\n",
    "        self.estudiantes = []\n",
    "    \n",
    "    def agregar_estudiante(self, estudiante):\n",
    "        self.estudiantes.append(estudiante)\n",
    "    \n",
    "    def listar_estudiantes(self):\n",
    "        print(f\"Estudiantes del curso {self.nombre}:\")\n",
    "        for estudiante in self.estudiantes:\n",
    "            print(f\"- {estudiante.nombre}\")\n",
    "\n",
    "# AGRAGACION\n",
    "\n",
    "e1= Estudiante(\"Juan\")\n",
    "e2= Estudiante(\"Pedro\")\n",
    "\n",
    "curso = Curso(\"Matematicas\")\n",
    "curso.agregar_estudiante(e1)\n",
    "curso.agregar_estudiante(e2)\n",
    "\n",
    "curso.listar_estudiantes()\n",
    "        "
   ]
  },
  {
   "cell_type": "markdown",
   "metadata": {},
   "source": [
    "## COMPOSICIÓN\n",
    "\n",
    "Una clase crea instancias de otra clase como parte de du construcción. Si se destruye una instancia de la clase que crea instancias, se destruyen todas las instancias creadas"
   ]
  },
  {
   "cell_type": "markdown",
   "metadata": {},
   "source": [
    "**EJEMPLO:** Una clase crea instancias de otra clase como parte de su construción. Si se destruye la instancia de la primera clase, la instancia de la segunda clase también se destruye."
   ]
  },
  {
   "cell_type": "code",
   "execution_count": 6,
   "metadata": {},
   "outputs": [
    {
     "name": "stdout",
     "output_type": "stream",
     "text": [
      "Casa en Calle 123 tiene:\n",
      "Habitación: Habitación 1\n",
      "Habitación: Habitación 2\n",
      "Habitación: Habitación 3\n"
     ]
    }
   ],
   "source": [
    "class Habitación:\n",
    "    def __init__(self, nombre):\n",
    "        self.nombre = nombre\n",
    "        \n",
    "class Casa:\n",
    "    def __init__(self, dirección):\n",
    "        self.dirección = dirección\n",
    "        self.habitaciones = [\n",
    "            Habitación(\"Habitación 1\"),\n",
    "            Habitación(\"Habitación 2\"),\n",
    "            Habitación(\"Habitación 3\"),\n",
    "        ]\n",
    "    def mostrar_habitaciones(self):\n",
    "        print(f\"Casa en {self.dirección} tiene:\")\n",
    "        \n",
    "        for h in self.habitaciones:\n",
    "            print(f\"Habitación: {h.nombre}\")\n",
    "            \n",
    "# COMPOSICIÓN\n",
    "\n",
    "mi_casa = Casa(\"Calle 123\")\n",
    "mi_casa.mostrar_habitaciones()"
   ]
  }
 ],
 "metadata": {
  "kernelspec": {
   "display_name": "Python 3",
   "language": "python",
   "name": "python3"
  },
  "language_info": {
   "codemirror_mode": {
    "name": "ipython",
    "version": 3
   },
   "file_extension": ".py",
   "mimetype": "text/x-python",
   "name": "python",
   "nbconvert_exporter": "python",
   "pygments_lexer": "ipython3",
   "version": "3.13.3"
  }
 },
 "nbformat": 4,
 "nbformat_minor": 2
}
