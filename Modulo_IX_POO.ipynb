{
 "cells": [
  {
   "cell_type": "markdown",
   "metadata": {},
   "source": [
    "# HERENCIA, SUPERCLASES Y POLIMORFISMO\n",
    "\n",
    "## 1. HERENCIA\n",
    "La herencia es un concepto fundamental en la programación orientada a objetos. Permite quitar la repetición de código y crear clases relacionadas entre sí.\n",
    "Permite que una clase(subclase) adquiera  atributos y métodos de otra clase(superclase), lo que fomenta la reutilización del código y el modelado de jerarquias."
   ]
  },
  {
   "cell_type": "code",
   "execution_count": 2,
   "metadata": {},
   "outputs": [
    {
     "name": "stdout",
     "output_type": "stream",
     "text": [
      "Constructor de la superclase\n",
      "Constructor de la subclase\n"
     ]
    }
   ],
   "source": [
    "class SuperClase:\n",
    "    def __init__(self):\n",
    "        print(\"Constructor de la superclase\")\n",
    "\n",
    "class SubClase(SuperClase):\n",
    "    def __init__(self):\n",
    "        super().__init__() # Llama al constructor de la superclase\n",
    "        print(\"Constructor de la subclase\")\n",
    "\n",
    "hijo = SubClase()"
   ]
  },
  {
   "cell_type": "markdown",
   "metadata": {},
   "source": [
    "## 2. HERENCIA SIMPLE\n"
   ]
  },
  {
   "cell_type": "code",
   "execution_count": 4,
   "metadata": {},
   "outputs": [
    {
     "name": "stdout",
     "output_type": "stream",
     "text": [
      "Soy Juan, tengo 20 años y estudio Ingeniería en Sistemas\n"
     ]
    }
   ],
   "source": [
    "class Persona:\n",
    "    def __init__(self, nombre, edad):\n",
    "        self.nombre = nombre\n",
    "        self.edad = edad\n",
    "        \n",
    "    def saludar(self):\n",
    "        print(f\"Hola, me llamo {self.nombre} y tengo {self.edad} años\")\n",
    "    \n",
    "    \n",
    "class Estudiante(Persona):\n",
    "    def __init__(self, nombre, edad, carrera):\n",
    "        super().__init__(nombre, edad)\n",
    "        self.carrera = carrera\n",
    "    \n",
    "    def saludar(self):\n",
    "        print(f\"Soy {self.nombre}, tengo {self.edad} años y estudio {self.carrera}\")\n",
    "\n",
    "e = Estudiante(\"Juan\", 20, \"Ingeniería en Sistemas\")\n",
    "e.saludar()  # Salida: Soy Juan, tengo 20 años y estudio Ing"
   ]
  },
  {
   "cell_type": "markdown",
   "metadata": {},
   "source": [
    "## 3. Uso de super()\n",
    "\n",
    "La función super() permite llamar métodos y atributos de la superclase desde la subclase.\n",
    "\n",
    "- Se utiliza comunmente para extender o coplementar funcionalidades\n",
    "- Especialmente útil en el contructor __init__ para inicializar atributos de la superclase.\n"
   ]
  },
  {
   "cell_type": "markdown",
   "metadata": {},
   "source": [
    "## 4. POLIMORFISMO\n",
    "\n",
    "**Polimorfimo=** \"Muchas formas\"\n",
    "**Definición:** Es la capacidad de un objeto para tomar muchas formas diferentes, pero siempre con\n",
    "la misma estructura interna.\n",
    "**Ejemplo:** Una caja de cartón puede ser usada como caja de cartón, como caja de plástico, como caja de madera, etc.\n",
    "El mismo método puede tener diferentes comportamientos dependiendo del ipo de objeto qu lo invoque\n"
   ]
  },
  {
   "cell_type": "markdown",
   "metadata": {},
   "source": [
    "# ACTIVIDAD PRÁCTICA DEL MÓDULO\n",
    "\n",
    "1. Crea una base Empleado con atributos nombre y salario\n",
    "2. Crea dos subclases:\n",
    "- EmpleadoTemporal: con método calcular_bonificación() = 5% del salario\n",
    "- EmpleadoFijo: con método calcular_bonificación() = 10% del salario\n",
    "\n",
    "3. Sobrescribe un método\n",
    "- mostrar_detalle() en ambas subclases para inclui el cálculo de bonificación\n",
    "4. Demuestra polimorfismo usando una lista con objetos de ambas subclases"
   ]
  },
  {
   "cell_type": "markdown",
   "metadata": {},
   "source": []
  }
 ],
 "metadata": {
  "kernelspec": {
   "display_name": "Python 3",
   "language": "python",
   "name": "python3"
  },
  "language_info": {
   "codemirror_mode": {
    "name": "ipython",
    "version": 3
   },
   "file_extension": ".py",
   "mimetype": "text/x-python",
   "name": "python",
   "nbconvert_exporter": "python",
   "pygments_lexer": "ipython3",
   "version": "3.13.3"
  }
 },
 "nbformat": 4,
 "nbformat_minor": 2
}
