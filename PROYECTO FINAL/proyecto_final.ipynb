{
 "cells": [
  {
   "cell_type": "markdown",
   "id": "87b5d153",
   "metadata": {},
   "source": [
    "# 🚀 Proyecto Final: Sistema de Gestión de Paquetería Inteligente\n"
   ]
  },
  {
   "cell_type": "markdown",
   "id": "d5ba0184",
   "metadata": {},
   "source": [
    "## 🧩 Descripción General\n",
    "Se debe implementar un sistema de gestión de envíos para una empresa de mensajería y logística que permita registrar paquetes, asociarlos a clientes, llevar el control de su estado, y calcular costos según el tipo de envío. El sistema debe incluir relaciones entre clases (composición, agregación, asociación), uso de métodos mágicos, herencia, encapsulación, y polimorfismo."
   ]
  },
  {
   "cell_type": "markdown",
   "id": "fa80f589",
   "metadata": {},
   "source": [
    "### 🎯 Objetivo del Proyecto\n",
    "- Evaluar los siguientes conceptos:\n",
    "\n",
    "- Clases y objetos\n",
    "\n",
    "- Atributos públicos, protegidos y privados\n",
    "\n",
    "- Métodos de instancia, clase y estáticos\n",
    "\n",
    "- Métodos mágicos (__str__, __init__, etc.)\n",
    "\n",
    "- Encapsulación con validaciones (getters/setters)\n",
    "\n",
    "- Asociación, agregación y composición\n",
    "\n",
    "- Herencia y polimorfismo\n",
    "\n",
    "- Buenas prácticas (modularidad, documentación)"
   ]
  },
  {
   "cell_type": "markdown",
   "id": "0ed99447",
   "metadata": {},
   "source": [
    "### ESTRUCTURA E LAS CLASES\n",
    "\n",
    "| Clase           | Rol                                                                 |\n",
    "|----------------|----------------------------------------------------------------------|\n",
    "| Cliente         | Representa a un usuario que envía o recibe paquetes                  |\n",
    "| Paquete         | Clase base para paquetes, incluye atributos comunes y métodos mágicos |\n",
    "| PaqueteExpress  | Hereda de Paquete, incluye recargo por urgencia                      |\n",
    "| PaqueteEstandar | Hereda de Paquete, sin recargo                                       |\n",
    "| Direccion       | Composición con Cliente (cada cliente tiene una dirección)           |\n",
    "| Envio           | Agrega un paquete y se asocia a un cliente                           |\n",
    "| SistemaEnvios   | Administra clientes y envíos                                         |\n"
   ]
  },
  {
   "cell_type": "markdown",
   "id": "4a627c6e",
   "metadata": {},
   "source": [
    "### 🧪 Requisitos funcionales\n",
    "1. Registrar clientes y asociarles una dirección.\n",
    "\n",
    "2. Crear paquetes (express o estándar).\n",
    "\n",
    "3. Asignar paquetes a envíos y clientes.\n",
    "\n",
    "4. Calcular el precio de cada envío.\n",
    "\n",
    "5. Mostrar listado de envíos con información detallada (polimorfismo).\n",
    "\n",
    "6. Validar datos (precio, peso, nombre del cliente, etc.).\n",
    "\n",
    "7. Mostrar reporte de todos los envíos realizados.\n",
    "\n",
    "8. Agregar seguimiento del paquete (pendiente, en tránsito, entregado) usando métodos set_estado().\n",
    "\n",
    "9. Guardar la información en un archivo .txt o .json.\n",
    "\n",
    "10. Mostrar totales de ventas por tipo de envío (estándar vs express).\n",
    "\n",
    "11. Diseñar un menú de opciones para registrar clientes/envíos de forma interactiva.\n",
    "\n"
   ]
  },
  {
   "cell_type": "markdown",
   "id": "5ed34c18",
   "metadata": {},
   "source": []
  },
  {
   "cell_type": "code",
   "execution_count": null,
   "id": "361f72ae",
   "metadata": {},
   "outputs": [],
   "source": []
  }
 ],
 "metadata": {
  "language_info": {
   "name": "python"
  }
 },
 "nbformat": 4,
 "nbformat_minor": 5
}
